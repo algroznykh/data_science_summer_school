{
 "cells": [
  {
   "cell_type": "markdown",
   "metadata": {},
   "source": [
    "```.\n",
    "Задача : Пьяница стоит на краю утёса на расстоянии двух шагов и делает случайные\n",
    "шаги вперёд-назад (шаг назад с вероятностью 2/3, шаг вперёд с вероятностью\n",
    "1/3). Какова вероятность того, что после 5 шагов пьяница не свалился?\n",
    "Напишите функцию, принимающую N и возвращающую вероятность того,\n",
    "что после этих N шагов пьяница жив. Постройте график этой функции.```"
   ]
  },
  {
   "cell_type": "markdown",
   "metadata": {},
   "source": [
    "*Пусть пьяница стоит лицом к обрыву*"
   ]
  },
  {
   "cell_type": "code",
   "execution_count": 74,
   "metadata": {},
   "outputs": [],
   "source": [
    "def walk(steps):\n",
    "    pos = 0\n",
    "    for _ in range(steps):\n",
    "        pos = pos + 1 if random() <= 1/3 else pos - 1\n",
    "        if pos == 2:\n",
    "            return True\n",
    "    else:\n",
    "        return False"
   ]
  },
  {
   "cell_type": "code",
   "execution_count": 67,
   "metadata": {
    "collapsed": true
   },
   "outputs": [],
   "source": [
    "from random import random\n",
    "import seaborn as sns\n",
    "from matplotlib import pyplot as plt"
   ]
  },
  {
   "cell_type": "code",
   "execution_count": 96,
   "metadata": {},
   "outputs": [
    {
     "name": "stdout",
     "output_type": "stream",
     "text": [
      "0.16193\n"
     ]
    }
   ],
   "source": [
    "def fall_prob(steps):\n",
    "    sample_size = 100000\n",
    "    fell = 0\n",
    "    for _ in range(sample_size):\n",
    "        if walk(steps):\n",
    "            fell += 1\n",
    "    return (fell / sample_size)\n",
    "\n",
    "print(fall_prob(5))"
   ]
  },
  {
   "cell_type": "code",
   "execution_count": 97,
   "metadata": {},
   "outputs": [
    {
     "data": {
      "image/png": "[encoded data removed]",
      "text/plain": [
       "<matplotlib.figure.Figure at 0x7fb82f229358>"
      ]
     },
     "metadata": {},
     "output_type": "display_data"
    }
   ],
   "source": [
    "sns.tsplot([fall_prob(n) for n in range(10)])\n",
    "plt.show()"
   ]
  }
 ],
 "metadata": {
  "kernelspec": {
   "display_name": "Python 3",
   "language": "python",
   "name": "python3"
  },
  "language_info": {
   "codemirror_mode": {
    "name": "ipython",
    "version": 3
   },
   "file_extension": ".py",
   "mimetype": "text/x-python",
   "name": "python",
   "nbconvert_exporter": "python",
   "pygments_lexer": "ipython3",
   "version": "3.5.2"
  }
 },
 "nbformat": 4,
 "nbformat_minor": 2
}
